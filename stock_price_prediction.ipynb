{
 "cells": [
  {
   "cell_type": "markdown",
   "metadata": {},
   "source": [
    "# Import stock data from tiingo website"
   ]
  },
  {
   "cell_type": "code",
   "execution_count": 2,
   "metadata": {},
   "outputs": [],
   "source": [
    "import pandas_datareader as pdr"
   ]
  },
  {
   "cell_type": "code",
   "execution_count": 4,
   "metadata": {},
   "outputs": [],
   "source": [
    "key = ''"
   ]
  },
  {
   "cell_type": "code",
   "execution_count": 5,
   "metadata": {},
   "outputs": [],
   "source": [
    "# load data\n",
    "df = pdr.get_data_tiingo('AAPL', api_key=key)"
   ]
  },
  {
   "cell_type": "code",
   "execution_count": 2,
   "metadata": {},
   "outputs": [],
   "source": [
    "# save data into our device\n",
    "df.to_csv('AAPL.csv')"
   ]
  },
  {
   "cell_type": "markdown",
   "metadata": {},
   "source": [
    "# Read csv data"
   ]
  },
  {
   "cell_type": "code",
   "execution_count": 1,
   "metadata": {},
   "outputs": [],
   "source": [
    "import pandas as pd"
   ]
  },
  {
   "cell_type": "code",
   "execution_count": 2,
   "metadata": {},
   "outputs": [
    {
     "data": {
      "text/html": [
       "<div>\n",
       "<style scoped>\n",
       "    .dataframe tbody tr th:only-of-type {\n",
       "        vertical-align: middle;\n",
       "    }\n",
       "\n",
       "    .dataframe tbody tr th {\n",
       "        vertical-align: top;\n",
       "    }\n",
       "\n",
       "    .dataframe thead th {\n",
       "        text-align: right;\n",
       "    }\n",
       "</style>\n",
       "<table border=\"1\" class=\"dataframe\">\n",
       "  <thead>\n",
       "    <tr style=\"text-align: right;\">\n",
       "      <th></th>\n",
       "      <th>symbol</th>\n",
       "      <th>date</th>\n",
       "      <th>close</th>\n",
       "      <th>high</th>\n",
       "      <th>low</th>\n",
       "      <th>open</th>\n",
       "      <th>volume</th>\n",
       "      <th>adjClose</th>\n",
       "      <th>adjHigh</th>\n",
       "      <th>adjLow</th>\n",
       "      <th>adjOpen</th>\n",
       "      <th>adjVolume</th>\n",
       "      <th>divCash</th>\n",
       "      <th>splitFactor</th>\n",
       "    </tr>\n",
       "  </thead>\n",
       "  <tbody>\n",
       "    <tr>\n",
       "      <th>0</th>\n",
       "      <td>AAPL</td>\n",
       "      <td>2015-08-24 00:00:00+00:00</td>\n",
       "      <td>103.12</td>\n",
       "      <td>108.80</td>\n",
       "      <td>92.00</td>\n",
       "      <td>94.870</td>\n",
       "      <td>162206292</td>\n",
       "      <td>95.280906</td>\n",
       "      <td>100.529118</td>\n",
       "      <td>85.006239</td>\n",
       "      <td>87.658064</td>\n",
       "      <td>162206292</td>\n",
       "      <td>0.0</td>\n",
       "      <td>1.0</td>\n",
       "    </tr>\n",
       "    <tr>\n",
       "      <th>1</th>\n",
       "      <td>AAPL</td>\n",
       "      <td>2015-08-25 00:00:00+00:00</td>\n",
       "      <td>103.74</td>\n",
       "      <td>111.11</td>\n",
       "      <td>103.50</td>\n",
       "      <td>111.110</td>\n",
       "      <td>103601599</td>\n",
       "      <td>95.853775</td>\n",
       "      <td>102.663514</td>\n",
       "      <td>95.632019</td>\n",
       "      <td>102.663514</td>\n",
       "      <td>103601599</td>\n",
       "      <td>0.0</td>\n",
       "      <td>1.0</td>\n",
       "    </tr>\n",
       "    <tr>\n",
       "      <th>2</th>\n",
       "      <td>AAPL</td>\n",
       "      <td>2015-08-26 00:00:00+00:00</td>\n",
       "      <td>109.69</td>\n",
       "      <td>109.89</td>\n",
       "      <td>105.05</td>\n",
       "      <td>107.085</td>\n",
       "      <td>96774611</td>\n",
       "      <td>101.351461</td>\n",
       "      <td>101.536257</td>\n",
       "      <td>97.064189</td>\n",
       "      <td>98.944491</td>\n",
       "      <td>96774611</td>\n",
       "      <td>0.0</td>\n",
       "      <td>1.0</td>\n",
       "    </tr>\n",
       "    <tr>\n",
       "      <th>3</th>\n",
       "      <td>AAPL</td>\n",
       "      <td>2015-08-27 00:00:00+00:00</td>\n",
       "      <td>112.92</td>\n",
       "      <td>113.24</td>\n",
       "      <td>110.02</td>\n",
       "      <td>112.250</td>\n",
       "      <td>84616056</td>\n",
       "      <td>104.335919</td>\n",
       "      <td>104.631593</td>\n",
       "      <td>101.656374</td>\n",
       "      <td>103.716852</td>\n",
       "      <td>84616056</td>\n",
       "      <td>0.0</td>\n",
       "      <td>1.0</td>\n",
       "    </tr>\n",
       "    <tr>\n",
       "      <th>4</th>\n",
       "      <td>AAPL</td>\n",
       "      <td>2015-08-28 00:00:00+00:00</td>\n",
       "      <td>113.29</td>\n",
       "      <td>113.31</td>\n",
       "      <td>111.54</td>\n",
       "      <td>112.170</td>\n",
       "      <td>53164407</td>\n",
       "      <td>104.677792</td>\n",
       "      <td>104.696271</td>\n",
       "      <td>103.060825</td>\n",
       "      <td>103.642933</td>\n",
       "      <td>53164407</td>\n",
       "      <td>0.0</td>\n",
       "      <td>1.0</td>\n",
       "    </tr>\n",
       "  </tbody>\n",
       "</table>\n",
       "</div>"
      ],
      "text/plain": [
       "  symbol                       date   close    high     low     open  \\\n",
       "0   AAPL  2015-08-24 00:00:00+00:00  103.12  108.80   92.00   94.870   \n",
       "1   AAPL  2015-08-25 00:00:00+00:00  103.74  111.11  103.50  111.110   \n",
       "2   AAPL  2015-08-26 00:00:00+00:00  109.69  109.89  105.05  107.085   \n",
       "3   AAPL  2015-08-27 00:00:00+00:00  112.92  113.24  110.02  112.250   \n",
       "4   AAPL  2015-08-28 00:00:00+00:00  113.29  113.31  111.54  112.170   \n",
       "\n",
       "      volume    adjClose     adjHigh      adjLow     adjOpen  adjVolume  \\\n",
       "0  162206292   95.280906  100.529118   85.006239   87.658064  162206292   \n",
       "1  103601599   95.853775  102.663514   95.632019  102.663514  103601599   \n",
       "2   96774611  101.351461  101.536257   97.064189   98.944491   96774611   \n",
       "3   84616056  104.335919  104.631593  101.656374  103.716852   84616056   \n",
       "4   53164407  104.677792  104.696271  103.060825  103.642933   53164407   \n",
       "\n",
       "   divCash  splitFactor  \n",
       "0      0.0          1.0  \n",
       "1      0.0          1.0  \n",
       "2      0.0          1.0  \n",
       "3      0.0          1.0  \n",
       "4      0.0          1.0  "
      ]
     },
     "execution_count": 2,
     "metadata": {},
     "output_type": "execute_result"
    }
   ],
   "source": [
    "data = pd.read_csv('AAPL.csv')\n",
    "data.head()"
   ]
  },
  {
   "cell_type": "markdown",
   "metadata": {},
   "source": [
    "# Create working data of close stock price"
   ]
  },
  {
   "cell_type": "code",
   "execution_count": 3,
   "metadata": {},
   "outputs": [
    {
     "data": {
      "text/plain": [
       "0       103.12\n",
       "1       103.74\n",
       "2       109.69\n",
       "3       112.92\n",
       "4       113.29\n",
       "         ...  \n",
       "1253    459.63\n",
       "1254    458.43\n",
       "1255    462.25\n",
       "1256    462.83\n",
       "1257    473.10\n",
       "Name: close, Length: 1258, dtype: float64"
      ]
     },
     "execution_count": 3,
     "metadata": {},
     "output_type": "execute_result"
    }
   ],
   "source": [
    "df1 = data.reset_index()['close']\n",
    "df1"
   ]
  },
  {
   "cell_type": "code",
   "execution_count": null,
   "metadata": {},
   "outputs": [],
   "source": []
  },
  {
   "cell_type": "code",
   "execution_count": 5,
   "metadata": {},
   "outputs": [
    {
     "data": {
      "image/png": "[encoded data removed]",
      "text/plain": [
       "<Figure size 432x288 with 1 Axes>"
      ]
     },
     "metadata": {
      "needs_background": "light"
     },
     "output_type": "display_data"
    }
   ],
   "source": [
    "import matplotlib.pyplot as plt\n",
    "plt.plot(df1)\n",
    "plt.show()"
   ]
  },
  {
   "cell_type": "markdown",
   "metadata": {},
   "source": [
    "# Normalization"
   ]
  },
  {
   "cell_type": "code",
   "execution_count": 6,
   "metadata": {},
   "outputs": [],
   "source": [
    "import numpy as np\n",
    "from sklearn.preprocessing import MinMaxScaler\n",
    "\n",
    "scaler = MinMaxScaler(feature_range = (0, 1))\n",
    "df1 = scaler.fit_transform(np.array(df1).reshape(-1, 1))"
   ]
  },
  {
   "cell_type": "code",
   "execution_count": 7,
   "metadata": {},
   "outputs": [
    {
     "name": "stdout",
     "output_type": "stream",
     "text": [
      "(1258, 1)\n"
     ]
    },
    {
     "data": {
      "text/plain": [
       "array([[0.03338907],\n",
       "       [0.03500888],\n",
       "       [0.05055387],\n",
       "       ...,\n",
       "       [0.97165326],\n",
       "       [0.97316857],\n",
       "       [1.        ]])"
      ]
     },
     "execution_count": 7,
     "metadata": {},
     "output_type": "execute_result"
    }
   ],
   "source": [
    "print(df1.shape)\n",
    "df1"
   ]
  },
  {
   "cell_type": "code",
   "execution_count": 8,
   "metadata": {},
   "outputs": [],
   "source": [
    "# creating training and test data\n",
    "\n",
    "training_size = int(len(df1)*0.70)\n",
    "test_size = len(df1) - training_size\n",
    "\n",
    "train_data, test_data = df1[0:training_size, :], df1[training_size:len(df1), :]"
   ]
  },
  {
   "cell_type": "code",
   "execution_count": 9,
   "metadata": {},
   "outputs": [
    {
     "data": {
      "text/plain": [
       "(880, 378)"
      ]
     },
     "execution_count": 9,
     "metadata": {},
     "output_type": "execute_result"
    }
   ],
   "source": [
    "training_size, test_size"
   ]
  },
  {
   "cell_type": "markdown",
   "metadata": {},
   "source": [
    "# Creating sequence data for training"
   ]
  },
  {
   "cell_type": "code",
   "execution_count": 10,
   "metadata": {},
   "outputs": [],
   "source": [
    "def create_dataset(dataset, time_step=1):\n",
    "    dataX, dataY = [], []\n",
    "    for i in range(len(dataset)-time_step-1):\n",
    "        a = dataset[i:(i+time_step), 0]\n",
    "        dataX.append(a)\n",
    "        dataY.append(dataset[i+time_step, 0])\n",
    "    return np.array(dataX), np.array(dataY)"
   ]
  },
  {
   "cell_type": "code",
   "execution_count": 11,
   "metadata": {},
   "outputs": [],
   "source": [
    "time_step = 100\n",
    "x_train, y_train = create_dataset(train_data, time_step)\n",
    "x_test, y_test = create_dataset(test_data, time_step)"
   ]
  },
  {
   "cell_type": "code",
   "execution_count": 12,
   "metadata": {},
   "outputs": [
    {
     "data": {
      "text/plain": [
       "((779, 100), (779,), (277, 100))"
      ]
     },
     "execution_count": 12,
     "metadata": {},
     "output_type": "execute_result"
    }
   ],
   "source": [
    "x_train.shape, y_train.shape, x_test.shape"
   ]
  },
  {
   "cell_type": "code",
   "execution_count": null,
   "metadata": {
    "scrolled": false
   },
   "outputs": [],
   "source": []
  },
  {
   "cell_type": "code",
   "execution_count": 13,
   "metadata": {},
   "outputs": [],
   "source": [
    "x_train = x_train.reshape(x_train.shape[0], x_train.shape[1], 1)\n",
    "x_test = x_test.reshape(x_test.shape[0], x_test.shape[1], 1)"
   ]
  },
  {
   "cell_type": "code",
   "execution_count": 14,
   "metadata": {},
   "outputs": [
    {
     "data": {
      "text/plain": [
       "((779, 100, 1), (277, 100, 1))"
      ]
     },
     "execution_count": 14,
     "metadata": {},
     "output_type": "execute_result"
    }
   ],
   "source": [
    "x_train.shape, x_test.shape"
   ]
  },
  {
   "cell_type": "markdown",
   "metadata": {},
   "source": [
    "# Create the model"
   ]
  },
  {
   "cell_type": "code",
   "execution_count": 15,
   "metadata": {},
   "outputs": [],
   "source": [
    "from tensorflow.keras.models import Sequential\n",
    "from tensorflow.keras.layers import Dense, LSTM"
   ]
  },
  {
   "cell_type": "code",
   "execution_count": 16,
   "metadata": {},
   "outputs": [],
   "source": [
    "model = Sequential()\n",
    "model.add(LSTM(50, return_sequences = True, input_shape = (100, 1)))\n",
    "model.add(LSTM(50, return_sequences = True))\n",
    "model.add(LSTM(50))\n",
    "model.add(Dense(1))\n",
    "\n",
    "model.compile(loss = 'mean_squared_error', optimizer = 'adam')"
   ]
  },
  {
   "cell_type": "code",
   "execution_count": 17,
   "metadata": {},
   "outputs": [
    {
     "name": "stdout",
     "output_type": "stream",
     "text": [
      "Model: \"sequential\"\n",
      "_________________________________________________________________\n",
      "Layer (type)                 Output Shape              Param #   \n",
      "=================================================================\n",
      "lstm (LSTM)                  (None, 100, 50)           10400     \n",
      "_________________________________________________________________\n",
      "lstm_1 (LSTM)                (None, 100, 50)           20200     \n",
      "_________________________________________________________________\n",
      "lstm_2 (LSTM)                (None, 50)                20200     \n",
      "_________________________________________________________________\n",
      "dense (Dense)                (None, 1)                 51        \n",
      "=================================================================\n",
      "Total params: 50,851\n",
      "Trainable params: 50,851\n",
      "Non-trainable params: 0\n",
      "_________________________________________________________________\n"
     ]
    }
   ],
   "source": [
    "model.summary()"
   ]
  },
  {
   "cell_type": "markdown",
   "metadata": {},
   "source": [
    "# Train the model"
   ]
  },
  {
   "cell_type": "code",
   "execution_count": 18,
   "metadata": {
    "scrolled": true
   },
   "outputs": [
    {
     "name": "stdout",
     "output_type": "stream",
     "text": [
      "Epoch 1/100\n",
      "13/13 [==============================] - 1s 88ms/step - loss: 0.0070 - val_loss: 0.0618\n",
      "Epoch 2/100\n",
      "13/13 [==============================] - 0s 18ms/step - loss: 0.0017 - val_loss: 0.0111\n",
      "Epoch 3/100\n",
      "13/13 [==============================] - 0s 17ms/step - loss: 6.4542e-04 - val_loss: 0.0047\n",
      "Epoch 4/100\n",
      "13/13 [==============================] - 0s 17ms/step - loss: 4.3736e-04 - val_loss: 0.0065\n",
      "Epoch 5/100\n",
      "13/13 [==============================] - 0s 17ms/step - loss: 3.8690e-04 - val_loss: 0.0050\n",
      "Epoch 6/100\n",
      "13/13 [==============================] - 0s 17ms/step - loss: 3.6491e-04 - val_loss: 0.0053\n",
      "Epoch 7/100\n",
      "13/13 [==============================] - 0s 17ms/step - loss: 3.5515e-04 - val_loss: 0.0057\n",
      "Epoch 8/100\n",
      "13/13 [==============================] - 0s 17ms/step - loss: 3.3434e-04 - val_loss: 0.0055\n",
      "Epoch 9/100\n",
      "13/13 [==============================] - 0s 17ms/step - loss: 3.2251e-04 - val_loss: 0.0064\n",
      "Epoch 10/100\n",
      "13/13 [==============================] - 0s 17ms/step - loss: 3.2082e-04 - val_loss: 0.0039\n",
      "Epoch 11/100\n",
      "13/13 [==============================] - 0s 17ms/step - loss: 3.0157e-04 - val_loss: 0.0051\n",
      "Epoch 12/100\n",
      "13/13 [==============================] - 0s 17ms/step - loss: 2.7885e-04 - val_loss: 0.0052\n",
      "Epoch 13/100\n",
      "13/13 [==============================] - 0s 17ms/step - loss: 2.5702e-04 - val_loss: 0.0037\n",
      "Epoch 14/100\n",
      "13/13 [==============================] - 0s 17ms/step - loss: 2.6549e-04 - val_loss: 0.0090\n",
      "Epoch 15/100\n",
      "13/13 [==============================] - 0s 17ms/step - loss: 2.5073e-04 - val_loss: 0.0048\n",
      "Epoch 16/100\n",
      "13/13 [==============================] - 0s 17ms/step - loss: 2.2738e-04 - val_loss: 0.0067\n",
      "Epoch 17/100\n",
      "13/13 [==============================] - 0s 17ms/step - loss: 2.2646e-04 - val_loss: 0.0065\n",
      "Epoch 18/100\n",
      "13/13 [==============================] - 0s 17ms/step - loss: 2.4553e-04 - val_loss: 0.0056\n",
      "Epoch 19/100\n",
      "13/13 [==============================] - 0s 17ms/step - loss: 2.1746e-04 - val_loss: 0.0029\n",
      "Epoch 20/100\n",
      "13/13 [==============================] - 0s 17ms/step - loss: 2.1567e-04 - val_loss: 0.0049\n",
      "Epoch 21/100\n",
      "13/13 [==============================] - 0s 17ms/step - loss: 2.2545e-04 - val_loss: 0.0052\n",
      "Epoch 22/100\n",
      "13/13 [==============================] - 0s 17ms/step - loss: 2.1723e-04 - val_loss: 0.0056\n",
      "Epoch 23/100\n",
      "13/13 [==============================] - 0s 17ms/step - loss: 2.2923e-04 - val_loss: 0.0036\n",
      "Epoch 24/100\n",
      "13/13 [==============================] - 0s 17ms/step - loss: 2.0451e-04 - val_loss: 0.0032\n",
      "Epoch 25/100\n",
      "13/13 [==============================] - 0s 17ms/step - loss: 1.9578e-04 - val_loss: 0.0027\n",
      "Epoch 26/100\n",
      "13/13 [==============================] - 0s 17ms/step - loss: 2.0517e-04 - val_loss: 0.0030\n",
      "Epoch 27/100\n",
      "13/13 [==============================] - 0s 17ms/step - loss: 1.9152e-04 - val_loss: 0.0019\n",
      "Epoch 28/100\n",
      "13/13 [==============================] - 0s 17ms/step - loss: 2.0936e-04 - val_loss: 0.0035\n",
      "Epoch 29/100\n",
      "13/13 [==============================] - 0s 17ms/step - loss: 1.9293e-04 - val_loss: 0.0040\n",
      "Epoch 30/100\n",
      "13/13 [==============================] - 0s 17ms/step - loss: 1.9837e-04 - val_loss: 0.0015\n",
      "Epoch 31/100\n",
      "13/13 [==============================] - 0s 17ms/step - loss: 1.9770e-04 - val_loss: 0.0020\n",
      "Epoch 32/100\n",
      "13/13 [==============================] - 0s 17ms/step - loss: 2.0738e-04 - val_loss: 0.0046\n",
      "Epoch 33/100\n",
      "13/13 [==============================] - 0s 17ms/step - loss: 2.1041e-04 - val_loss: 0.0024\n",
      "Epoch 34/100\n",
      "13/13 [==============================] - 0s 17ms/step - loss: 1.7814e-04 - val_loss: 0.0027\n",
      "Epoch 35/100\n",
      "13/13 [==============================] - 0s 17ms/step - loss: 1.7718e-04 - val_loss: 0.0026\n",
      "Epoch 36/100\n",
      "13/13 [==============================] - 0s 17ms/step - loss: 1.7732e-04 - val_loss: 0.0014\n",
      "Epoch 37/100\n",
      "13/13 [==============================] - 0s 17ms/step - loss: 1.8230e-04 - val_loss: 0.0018\n",
      "Epoch 38/100\n",
      "13/13 [==============================] - 0s 17ms/step - loss: 1.7336e-04 - val_loss: 0.0035\n",
      "Epoch 39/100\n",
      "13/13 [==============================] - 0s 17ms/step - loss: 1.9338e-04 - val_loss: 9.9064e-04\n",
      "Epoch 40/100\n",
      "13/13 [==============================] - 0s 17ms/step - loss: 2.0066e-04 - val_loss: 0.0021\n",
      "Epoch 41/100\n",
      "13/13 [==============================] - 0s 17ms/step - loss: 1.8105e-04 - val_loss: 0.0020\n",
      "Epoch 42/100\n",
      "13/13 [==============================] - 0s 17ms/step - loss: 1.7890e-04 - val_loss: 0.0014\n",
      "Epoch 43/100\n",
      "13/13 [==============================] - 0s 17ms/step - loss: 1.6421e-04 - val_loss: 0.0014\n",
      "Epoch 44/100\n",
      "13/13 [==============================] - 0s 17ms/step - loss: 1.6279e-04 - val_loss: 0.0015\n",
      "Epoch 45/100\n",
      "13/13 [==============================] - 0s 17ms/step - loss: 1.5985e-04 - val_loss: 0.0014\n",
      "Epoch 46/100\n",
      "13/13 [==============================] - 0s 17ms/step - loss: 1.6361e-04 - val_loss: 0.0015\n",
      "Epoch 47/100\n",
      "13/13 [==============================] - 0s 17ms/step - loss: 1.5866e-04 - val_loss: 0.0017\n",
      "Epoch 48/100\n",
      "13/13 [==============================] - 0s 17ms/step - loss: 1.7093e-04 - val_loss: 0.0011\n",
      "Epoch 49/100\n",
      "13/13 [==============================] - 0s 17ms/step - loss: 2.0571e-04 - val_loss: 9.9599e-04\n",
      "Epoch 50/100\n",
      "13/13 [==============================] - 0s 17ms/step - loss: 1.8137e-04 - val_loss: 0.0022\n",
      "Epoch 51/100\n",
      "13/13 [==============================] - 0s 17ms/step - loss: 1.6730e-04 - val_loss: 9.0540e-04\n",
      "Epoch 52/100\n",
      "13/13 [==============================] - 0s 17ms/step - loss: 1.8266e-04 - val_loss: 9.5272e-04\n",
      "Epoch 53/100\n",
      "13/13 [==============================] - 0s 17ms/step - loss: 1.7391e-04 - val_loss: 0.0017\n",
      "Epoch 54/100\n",
      "13/13 [==============================] - 0s 17ms/step - loss: 1.4763e-04 - val_loss: 9.5869e-04\n",
      "Epoch 55/100\n",
      "13/13 [==============================] - 0s 17ms/step - loss: 1.5032e-04 - val_loss: 9.2060e-04\n",
      "Epoch 56/100\n",
      "13/13 [==============================] - 0s 17ms/step - loss: 1.6727e-04 - val_loss: 9.6796e-04\n",
      "Epoch 57/100\n",
      "13/13 [==============================] - 0s 17ms/step - loss: 1.6442e-04 - val_loss: 0.0032\n",
      "Epoch 58/100\n",
      "13/13 [==============================] - 0s 17ms/step - loss: 2.1787e-04 - val_loss: 9.0385e-04\n",
      "Epoch 59/100\n",
      "13/13 [==============================] - 0s 17ms/step - loss: 1.5432e-04 - val_loss: 0.0013\n",
      "Epoch 60/100\n",
      "13/13 [==============================] - 0s 17ms/step - loss: 1.4666e-04 - val_loss: 0.0011\n",
      "Epoch 61/100\n",
      "13/13 [==============================] - 0s 17ms/step - loss: 1.5550e-04 - val_loss: 8.9091e-04\n",
      "Epoch 62/100\n",
      "13/13 [==============================] - 0s 17ms/step - loss: 1.4755e-04 - val_loss: 0.0011\n",
      "Epoch 63/100\n",
      "13/13 [==============================] - 0s 17ms/step - loss: 1.4753e-04 - val_loss: 0.0013\n",
      "Epoch 64/100\n",
      "13/13 [==============================] - 0s 17ms/step - loss: 1.3773e-04 - val_loss: 8.8532e-04\n",
      "Epoch 65/100\n",
      "13/13 [==============================] - 0s 17ms/step - loss: 1.3800e-04 - val_loss: 9.7023e-04\n",
      "Epoch 66/100\n",
      "13/13 [==============================] - 0s 17ms/step - loss: 1.3934e-04 - val_loss: 0.0012\n",
      "Epoch 67/100\n",
      "13/13 [==============================] - 0s 17ms/step - loss: 1.3696e-04 - val_loss: 0.0011\n",
      "Epoch 68/100\n",
      "13/13 [==============================] - 0s 17ms/step - loss: 1.3441e-04 - val_loss: 8.8494e-04\n",
      "Epoch 69/100\n",
      "13/13 [==============================] - 0s 17ms/step - loss: 1.2858e-04 - val_loss: 8.6230e-04\n",
      "Epoch 70/100\n",
      "13/13 [==============================] - 0s 17ms/step - loss: 1.3484e-04 - val_loss: 0.0013\n",
      "Epoch 71/100\n",
      "13/13 [==============================] - 0s 17ms/step - loss: 1.3423e-04 - val_loss: 8.6783e-04\n",
      "Epoch 72/100\n",
      "13/13 [==============================] - 0s 17ms/step - loss: 1.2494e-04 - val_loss: 8.9322e-04\n",
      "Epoch 73/100\n",
      "13/13 [==============================] - 0s 17ms/step - loss: 1.2968e-04 - val_loss: 8.2748e-04\n",
      "Epoch 74/100\n",
      "13/13 [==============================] - 0s 17ms/step - loss: 1.2905e-04 - val_loss: 8.4222e-04\n",
      "Epoch 75/100\n",
      "13/13 [==============================] - 0s 17ms/step - loss: 1.2284e-04 - val_loss: 0.0010\n",
      "Epoch 76/100\n",
      "13/13 [==============================] - 0s 17ms/step - loss: 1.2255e-04 - val_loss: 8.5047e-04\n",
      "Epoch 77/100\n",
      "13/13 [==============================] - 0s 17ms/step - loss: 1.2898e-04 - val_loss: 7.9926e-04\n",
      "Epoch 78/100\n"
     ]
    },
    {
     "name": "stdout",
     "output_type": "stream",
     "text": [
      "13/13 [==============================] - 0s 17ms/step - loss: 1.2606e-04 - val_loss: 7.9624e-04\n",
      "Epoch 79/100\n",
      "13/13 [==============================] - 0s 17ms/step - loss: 1.1803e-04 - val_loss: 8.0936e-04\n",
      "Epoch 80/100\n",
      "13/13 [==============================] - 0s 17ms/step - loss: 1.3253e-04 - val_loss: 0.0010\n",
      "Epoch 81/100\n",
      "13/13 [==============================] - 0s 17ms/step - loss: 1.3565e-04 - val_loss: 7.7811e-04\n",
      "Epoch 82/100\n",
      "13/13 [==============================] - 0s 17ms/step - loss: 1.1518e-04 - val_loss: 9.4998e-04\n",
      "Epoch 83/100\n",
      "13/13 [==============================] - 0s 17ms/step - loss: 1.1599e-04 - val_loss: 0.0012\n",
      "Epoch 84/100\n",
      "13/13 [==============================] - 0s 17ms/step - loss: 1.1249e-04 - val_loss: 8.2757e-04\n",
      "Epoch 85/100\n",
      "13/13 [==============================] - 0s 17ms/step - loss: 1.1376e-04 - val_loss: 7.5555e-04\n",
      "Epoch 86/100\n",
      "13/13 [==============================] - 0s 17ms/step - loss: 1.2895e-04 - val_loss: 0.0012\n",
      "Epoch 87/100\n",
      "13/13 [==============================] - 0s 17ms/step - loss: 1.3894e-04 - val_loss: 7.8317e-04\n",
      "Epoch 88/100\n",
      "13/13 [==============================] - 0s 17ms/step - loss: 1.1514e-04 - val_loss: 7.5860e-04\n",
      "Epoch 89/100\n",
      "13/13 [==============================] - 0s 17ms/step - loss: 1.0635e-04 - val_loss: 0.0016\n",
      "Epoch 90/100\n",
      "13/13 [==============================] - 0s 17ms/step - loss: 1.2506e-04 - val_loss: 0.0010\n",
      "Epoch 91/100\n",
      "13/13 [==============================] - 0s 17ms/step - loss: 1.2165e-04 - val_loss: 7.5648e-04\n",
      "Epoch 92/100\n",
      "13/13 [==============================] - 0s 17ms/step - loss: 1.0604e-04 - val_loss: 6.8176e-04\n",
      "Epoch 93/100\n",
      "13/13 [==============================] - 0s 18ms/step - loss: 1.0953e-04 - val_loss: 8.1960e-04\n",
      "Epoch 94/100\n",
      "13/13 [==============================] - 0s 17ms/step - loss: 1.1062e-04 - val_loss: 7.4909e-04\n",
      "Epoch 95/100\n",
      "13/13 [==============================] - 0s 17ms/step - loss: 1.0169e-04 - val_loss: 0.0011\n",
      "Epoch 96/100\n",
      "13/13 [==============================] - 0s 17ms/step - loss: 9.8753e-05 - val_loss: 0.0012\n",
      "Epoch 97/100\n",
      "13/13 [==============================] - 0s 18ms/step - loss: 9.8049e-05 - val_loss: 6.8495e-04\n",
      "Epoch 98/100\n",
      "13/13 [==============================] - 0s 17ms/step - loss: 1.0191e-04 - val_loss: 6.3870e-04\n",
      "Epoch 99/100\n",
      "13/13 [==============================] - 0s 17ms/step - loss: 1.1302e-04 - val_loss: 8.3441e-04\n",
      "Epoch 100/100\n",
      "13/13 [==============================] - 0s 17ms/step - loss: 9.5753e-05 - val_loss: 7.1487e-04\n"
     ]
    },
    {
     "data": {
      "text/plain": [
       "<tensorflow.python.keras.callbacks.History at 0x1f4fe917608>"
      ]
     },
     "execution_count": 18,
     "metadata": {},
     "output_type": "execute_result"
    }
   ],
   "source": [
    "model.fit(x_train, y_train,\n",
    "          validation_data = (x_test, y_test),\n",
    "          epochs = 100,\n",
    "          batch_size = 64,\n",
    "          verbose = 1)"
   ]
  },
  {
   "cell_type": "markdown",
   "metadata": {},
   "source": [
    "# Plot the loss"
   ]
  },
  {
   "cell_type": "code",
   "execution_count": 19,
   "metadata": {},
   "outputs": [
    {
     "data": {
      "image/png": "[encoded data removed]",
      "text/plain": [
       "<Figure size 432x288 with 1 Axes>"
      ]
     },
     "metadata": {
      "needs_background": "light"
     },
     "output_type": "display_data"
    }
   ],
   "source": [
    "plt.plot(model.history.history['loss'])\n",
    "plt.plot(model.history.history['val_loss'])\n",
    "plt.xlabel('Epochs')\n",
    "plt.ylabel('Loss')\n",
    "plt.title('Model Loss')\n",
    "plt.legend(['train', 'test'], loc = 'upper right')\n",
    "plt.show()"
   ]
  },
  {
   "cell_type": "markdown",
   "metadata": {},
   "source": [
    "# Prediction"
   ]
  },
  {
   "cell_type": "code",
   "execution_count": 21,
   "metadata": {},
   "outputs": [
    {
     "data": {
      "image/png": "[encoded data removed]",
      "text/plain": [
       "<Figure size 432x288 with 1 Axes>"
      ]
     },
     "metadata": {
      "needs_background": "light"
     },
     "output_type": "display_data"
    }
   ],
   "source": [
    "y_pred = model.predict(x_test)\n",
    "\n",
    "y_test_inverse = scaler.inverse_transform(df1)\n",
    "y_pred_inverse = scaler.inverse_transform(y_pred)\n",
    "\n",
    "plt.plot(y_test_inverse, label = 'Actual Price', color = 'red')\n",
    "plt.plot(y_pred_inverse, label = 'Predicted Price', color = 'green')\n",
    "\n",
    "plt.title('Price Prediction')\n",
    "plt.xlabel('Time(Days)')\n",
    "plt.ylabel('Price')\n",
    "plt.legend(loc = 'best')\n",
    "plt.show()"
   ]
  },
  {
   "cell_type": "code",
   "execution_count": 55,
   "metadata": {},
   "outputs": [],
   "source": [
    "train_predict = model.predict(x_train)\n",
    "test_predict = model.predict(x_test)"
   ]
  },
  {
   "cell_type": "code",
   "execution_count": 56,
   "metadata": {},
   "outputs": [],
   "source": [
    "train_predict = scaler.inverse_transform(train_predict)\n",
    "test_predict = scaler.inverse_transform(test_predict)"
   ]
  },
  {
   "cell_type": "code",
   "execution_count": 57,
   "metadata": {},
   "outputs": [
    {
     "data": {
      "text/plain": [
       "154.98889700646836"
      ]
     },
     "execution_count": 57,
     "metadata": {},
     "output_type": "execute_result"
    }
   ],
   "source": [
    "import math\n",
    "from sklearn.metrics import mean_squared_error\n",
    "\n",
    "math.sqrt(mean_squared_error(y_train, train_predict))"
   ]
  },
  {
   "cell_type": "code",
   "execution_count": 58,
   "metadata": {},
   "outputs": [
    {
     "data": {
      "text/plain": [
       "286.901379122783"
      ]
     },
     "execution_count": 58,
     "metadata": {},
     "output_type": "execute_result"
    }
   ],
   "source": [
    "math.sqrt(mean_squared_error(y_test, test_predict))"
   ]
  },
  {
   "cell_type": "code",
   "execution_count": null,
   "metadata": {},
   "outputs": [],
   "source": []
  },
  {
   "cell_type": "code",
   "execution_count": 60,
   "metadata": {},
   "outputs": [
    {
     "data": {
      "image/png": "[encoded data removed]",
      "text/plain": [
       "<Figure size 432x288 with 1 Axes>"
      ]
     },
     "metadata": {
      "needs_background": "light"
     },
     "output_type": "display_data"
    }
   ],
   "source": [
    "look_back = 100 # shift train prediction for plotting\n",
    "trainPredictPlot = np.empty_like(df1)\n",
    "trainPredictPlot[:, :] = np.nan\n",
    "trainPredictPlot[look_back:len(train_predict)+look_back, :] = train_predict\n",
    "\n",
    "# shift test pridiction for plotting\n",
    "testPredictPlot = np.empty_like(df1)\n",
    "testPredictPlot[:, :] = np.nan\n",
    "testPredictPlot[len(train_predict)+look_back*2+1:len(df1)-1, :] = test_predict\n",
    "\n",
    "# plot baseline and prediction\n",
    "plt.plot(scaler.inverse_transform(df1))\n",
    "plt.plot(trainPredictPlot)\n",
    "plt.plot(testPredictPlot)\n",
    "plt.show()"
   ]
  },
  {
   "cell_type": "code",
   "execution_count": null,
   "metadata": {},
   "outputs": [],
   "source": []
  }
 ],
 "metadata": {
  "kernelspec": {
   "display_name": "Python 3",
   "language": "python",
   "name": "python3"
  },
  "language_info": {
   "codemirror_mode": {
    "name": "ipython",
    "version": 3
   },
   "file_extension": ".py",
   "mimetype": "text/x-python",
   "name": "python",
   "nbconvert_exporter": "python",
   "pygments_lexer": "ipython3",
   "version": "3.7.4"
  }
 },
 "nbformat": 4,
 "nbformat_minor": 2
}
