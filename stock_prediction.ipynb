{
 "cells": [
  {
   "cell_type": "markdown",
   "metadata": {},
   "source": [
    "# Import library"
   ]
  },
  {
   "cell_type": "code",
   "execution_count": 1,
   "metadata": {},
   "outputs": [
    {
     "name": "stderr",
     "output_type": "stream",
     "text": [
      "C:\\Users\\Hp\\Anaconda3\\lib\\site-packages\\statsmodels\\tools\\_testing.py:19: FutureWarning: pandas.util.testing is deprecated. Use the functions in the public API at pandas.testing instead.\n",
      "  import pandas.util.testing as tm\n"
     ]
    }
   ],
   "source": [
    "import pandas as pd\n",
    "import numpy as np\n",
    "import seaborn as sn\n",
    "import matplotlib.pyplot as plt\n",
    "from sklearn.preprocessing import MinMaxScaler\n",
    "\n",
    "from tensorflow.keras.models import Sequential\n",
    "from tensorflow.python.keras.layers import Dense, CuDNNLSTM, Dropout"
   ]
  },
  {
   "cell_type": "markdown",
   "metadata": {},
   "source": []
  },
  {
   "cell_type": "code",
   "execution_count": 2,
   "metadata": {},
   "outputs": [
    {
     "data": {
      "text/html": [
       "<div>\n",
       "<style scoped>\n",
       "    .dataframe tbody tr th:only-of-type {\n",
       "        vertical-align: middle;\n",
       "    }\n",
       "\n",
       "    .dataframe tbody tr th {\n",
       "        vertical-align: top;\n",
       "    }\n",
       "\n",
       "    .dataframe thead th {\n",
       "        text-align: right;\n",
       "    }\n",
       "</style>\n",
       "<table border=\"1\" class=\"dataframe\">\n",
       "  <thead>\n",
       "    <tr style=\"text-align: right;\">\n",
       "      <th></th>\n",
       "      <th>Date</th>\n",
       "      <th>Open</th>\n",
       "      <th>High</th>\n",
       "      <th>Low</th>\n",
       "      <th>Close</th>\n",
       "      <th>Adj Close</th>\n",
       "      <th>Volume</th>\n",
       "    </tr>\n",
       "  </thead>\n",
       "  <tbody>\n",
       "    <tr>\n",
       "      <th>0</th>\n",
       "      <td>2010-07-16</td>\n",
       "      <td>0.049510</td>\n",
       "      <td>0.049510</td>\n",
       "      <td>0.049510</td>\n",
       "      <td>0.049510</td>\n",
       "      <td>0.049510</td>\n",
       "      <td>0</td>\n",
       "    </tr>\n",
       "    <tr>\n",
       "      <th>1</th>\n",
       "      <td>2010-07-17</td>\n",
       "      <td>0.049510</td>\n",
       "      <td>0.085850</td>\n",
       "      <td>0.059410</td>\n",
       "      <td>0.085840</td>\n",
       "      <td>0.085840</td>\n",
       "      <td>5</td>\n",
       "    </tr>\n",
       "    <tr>\n",
       "      <th>2</th>\n",
       "      <td>2010-07-18</td>\n",
       "      <td>0.085840</td>\n",
       "      <td>0.093070</td>\n",
       "      <td>0.077230</td>\n",
       "      <td>0.080800</td>\n",
       "      <td>0.080800</td>\n",
       "      <td>49</td>\n",
       "    </tr>\n",
       "    <tr>\n",
       "      <th>3</th>\n",
       "      <td>2010-07-19</td>\n",
       "      <td>0.080800</td>\n",
       "      <td>0.081810</td>\n",
       "      <td>0.074260</td>\n",
       "      <td>0.074740</td>\n",
       "      <td>0.074740</td>\n",
       "      <td>20</td>\n",
       "    </tr>\n",
       "    <tr>\n",
       "      <th>4</th>\n",
       "      <td>2010-07-20</td>\n",
       "      <td>0.074740</td>\n",
       "      <td>0.079210</td>\n",
       "      <td>0.066340</td>\n",
       "      <td>0.079210</td>\n",
       "      <td>0.079210</td>\n",
       "      <td>42</td>\n",
       "    </tr>\n",
       "    <tr>\n",
       "      <th>...</th>\n",
       "      <td>...</td>\n",
       "      <td>...</td>\n",
       "      <td>...</td>\n",
       "      <td>...</td>\n",
       "      <td>...</td>\n",
       "      <td>...</td>\n",
       "      <td>...</td>\n",
       "    </tr>\n",
       "    <tr>\n",
       "      <th>3196</th>\n",
       "      <td>2019-04-16</td>\n",
       "      <td>5212.810059</td>\n",
       "      <td>5270.759766</td>\n",
       "      <td>5190.810059</td>\n",
       "      <td>5236.259766</td>\n",
       "      <td>5236.259766</td>\n",
       "      <td>194699629</td>\n",
       "    </tr>\n",
       "    <tr>\n",
       "      <th>3197</th>\n",
       "      <td>2019-04-17</td>\n",
       "      <td>5236.259766</td>\n",
       "      <td>5317.779785</td>\n",
       "      <td>5232.990234</td>\n",
       "      <td>5289.750000</td>\n",
       "      <td>5289.750000</td>\n",
       "      <td>187312150</td>\n",
       "    </tr>\n",
       "    <tr>\n",
       "      <th>3198</th>\n",
       "      <td>2019-04-18</td>\n",
       "      <td>5289.750000</td>\n",
       "      <td>5353.009766</td>\n",
       "      <td>5212.180176</td>\n",
       "      <td>5295.529785</td>\n",
       "      <td>5295.529785</td>\n",
       "      <td>158699049</td>\n",
       "    </tr>\n",
       "    <tr>\n",
       "      <th>3199</th>\n",
       "      <td>2019-04-19</td>\n",
       "      <td>5295.529785</td>\n",
       "      <td>5366.600098</td>\n",
       "      <td>5274.450195</td>\n",
       "      <td>5326.180176</td>\n",
       "      <td>5326.180176</td>\n",
       "      <td>123577001</td>\n",
       "    </tr>\n",
       "    <tr>\n",
       "      <th>3200</th>\n",
       "      <td>2019-04-20</td>\n",
       "      <td>5326.180176</td>\n",
       "      <td>5348.589844</td>\n",
       "      <td>5232.770020</td>\n",
       "      <td>5305.740234</td>\n",
       "      <td>5305.740234</td>\n",
       "      <td>134681237</td>\n",
       "    </tr>\n",
       "  </tbody>\n",
       "</table>\n",
       "<p>3201 rows × 7 columns</p>\n",
       "</div>"
      ],
      "text/plain": [
       "           Date         Open         High          Low        Close  \\\n",
       "0    2010-07-16     0.049510     0.049510     0.049510     0.049510   \n",
       "1    2010-07-17     0.049510     0.085850     0.059410     0.085840   \n",
       "2    2010-07-18     0.085840     0.093070     0.077230     0.080800   \n",
       "3    2010-07-19     0.080800     0.081810     0.074260     0.074740   \n",
       "4    2010-07-20     0.074740     0.079210     0.066340     0.079210   \n",
       "...         ...          ...          ...          ...          ...   \n",
       "3196 2019-04-16  5212.810059  5270.759766  5190.810059  5236.259766   \n",
       "3197 2019-04-17  5236.259766  5317.779785  5232.990234  5289.750000   \n",
       "3198 2019-04-18  5289.750000  5353.009766  5212.180176  5295.529785   \n",
       "3199 2019-04-19  5295.529785  5366.600098  5274.450195  5326.180176   \n",
       "3200 2019-04-20  5326.180176  5348.589844  5232.770020  5305.740234   \n",
       "\n",
       "        Adj Close     Volume  \n",
       "0        0.049510          0  \n",
       "1        0.085840          5  \n",
       "2        0.080800         49  \n",
       "3        0.074740         20  \n",
       "4        0.079210         42  \n",
       "...           ...        ...  \n",
       "3196  5236.259766  194699629  \n",
       "3197  5289.750000  187312150  \n",
       "3198  5295.529785  158699049  \n",
       "3199  5326.180176  123577001  \n",
       "3200  5305.740234  134681237  \n",
       "\n",
       "[3201 rows x 7 columns]"
      ]
     },
     "execution_count": 2,
     "metadata": {},
     "output_type": "execute_result"
    }
   ],
   "source": [
    "# read csv file \n",
    "df = pd.read_csv('BTC-USD.csv', parse_dates = ['Date'])\n",
    "df.sort_values('Date')\n",
    "df"
   ]
  },
  {
   "cell_type": "code",
   "execution_count": 3,
   "metadata": {},
   "outputs": [
    {
     "data": {
      "image/png": "[encoded data removed]",
      "text/plain": [
       "<Figure size 432x288 with 1 Axes>"
      ]
     },
     "metadata": {
      "needs_background": "light"
     },
     "output_type": "display_data"
    }
   ],
   "source": [
    "# plott the close price\n",
    "p = df.plot(x = 'Date', y = 'Close')"
   ]
  },
  {
   "cell_type": "code",
   "execution_count": 4,
   "metadata": {},
   "outputs": [
    {
     "data": {
      "text/plain": [
       "0          0.049510\n",
       "1          0.085840\n",
       "2          0.080800\n",
       "3          0.074740\n",
       "4          0.079210\n",
       "           ...     \n",
       "3196    5236.259766\n",
       "3197    5289.750000\n",
       "3198    5295.529785\n",
       "3199    5326.180176\n",
       "3200    5305.740234\n",
       "Name: Close, Length: 3201, dtype: float64"
      ]
     },
     "execution_count": 4,
     "metadata": {},
     "output_type": "execute_result"
    }
   ],
   "source": [
    "# create working data\n",
    "data = df['Close']\n",
    "data"
   ]
  },
  {
   "cell_type": "markdown",
   "metadata": {},
   "source": [
    "# Normalization"
   ]
  },
  {
   "cell_type": "code",
   "execution_count": 5,
   "metadata": {},
   "outputs": [],
   "source": [
    "scaler = MinMaxScaler(feature_range = (0, 1))\n",
    "data = scaler.fit_transform(np.array(data).reshape(-1, 1))"
   ]
  },
  {
   "cell_type": "code",
   "execution_count": 6,
   "metadata": {},
   "outputs": [
    {
     "name": "stdout",
     "output_type": "stream",
     "text": [
      "(3201, 1)\n"
     ]
    },
    {
     "data": {
      "text/plain": [
       "array([[0.00000000e+00],\n",
       "       [1.87796187e-06],\n",
       "       [1.61743537e-06],\n",
       "       ...,\n",
       "       [2.73732729e-01],\n",
       "       [2.75317101e-01],\n",
       "       [2.74260525e-01]])"
      ]
     },
     "execution_count": 6,
     "metadata": {},
     "output_type": "execute_result"
    }
   ],
   "source": [
    "print(data.shape)\n",
    "data"
   ]
  },
  {
   "cell_type": "code",
   "execution_count": 7,
   "metadata": {},
   "outputs": [
    {
     "data": {
      "text/plain": [
       "False"
      ]
     },
     "execution_count": 7,
     "metadata": {},
     "output_type": "execute_result"
    }
   ],
   "source": [
    "np.isnan(data).any()"
   ]
  },
  {
   "cell_type": "markdown",
   "metadata": {},
   "source": [
    "# Split into train and test data"
   ]
  },
  {
   "cell_type": "code",
   "execution_count": 8,
   "metadata": {},
   "outputs": [],
   "source": [
    "train_size = int(len(data)*0.75)\n",
    "test_size = len(data) - train_size"
   ]
  },
  {
   "cell_type": "code",
   "execution_count": 9,
   "metadata": {},
   "outputs": [],
   "source": [
    "train_data = data[0:train_size, :]\n",
    "test_data = data[train_size:, :]"
   ]
  },
  {
   "cell_type": "markdown",
   "metadata": {},
   "source": [
    "# Create sequance data for training"
   ]
  },
  {
   "cell_type": "code",
   "execution_count": 11,
   "metadata": {},
   "outputs": [],
   "source": [
    "def create_dataset(dataset, time_step=1):\n",
    "    dataX, dataY = [], []\n",
    "    for i in range(len(dataset)-time_step):\n",
    "        a = dataset[i:(i+time_step), 0]\n",
    "        dataX.append(a)\n",
    "        dataY.append(dataset[i+time_step, 0])\n",
    "    return np.array(dataX), np.array(dataY)"
   ]
  },
  {
   "cell_type": "code",
   "execution_count": 12,
   "metadata": {},
   "outputs": [],
   "source": [
    "time_step = 100\n",
    "x_train, y_train = create_dataset(train_data, time_step)\n",
    "x_test, y_test = create_dataset(test_data, time_step)"
   ]
  },
  {
   "cell_type": "code",
   "execution_count": 13,
   "metadata": {},
   "outputs": [
    {
     "data": {
      "text/plain": [
       "(array([[0.00000000e+00, 1.87796187e-06, 1.61743537e-06, ...,\n",
       "         2.73914669e-06, 2.89422199e-06, 3.38529377e-06],\n",
       "        [1.87796187e-06, 1.61743537e-06, 1.30418326e-06, ...,\n",
       "         2.89422199e-06, 3.38529377e-06, 4.26405380e-06],\n",
       "        [1.61743537e-06, 1.30418326e-06, 1.53524546e-06, ...,\n",
       "         3.38529377e-06, 4.26405380e-06, 5.21001312e-06],\n",
       "        ...,\n",
       "        [3.60405596e-02, 3.61129262e-02, 3.75649493e-02, ...,\n",
       "         5.33355885e-02, 5.25219606e-02, 5.29644451e-02],\n",
       "        [3.61129262e-02, 3.75649493e-02, 3.79138687e-02, ...,\n",
       "         5.25219606e-02, 5.29644451e-02, 5.42510540e-02],\n",
       "        [3.75649493e-02, 3.79138687e-02, 3.53995804e-02, ...,\n",
       "         5.29644451e-02, 5.42510540e-02, 5.45575826e-02]]),\n",
       " array([4.26405380e-06, 5.21001312e-06, 7.14328518e-06, ...,\n",
       "        5.42510540e-02, 5.45575826e-02, 5.06016134e-02]))"
      ]
     },
     "execution_count": 13,
     "metadata": {},
     "output_type": "execute_result"
    }
   ],
   "source": [
    "x_train, y_train"
   ]
  },
  {
   "cell_type": "code",
   "execution_count": 14,
   "metadata": {},
   "outputs": [
    {
     "data": {
      "text/plain": [
       "((2300, 100), (701, 100), (2300,), (701,))"
      ]
     },
     "execution_count": 14,
     "metadata": {},
     "output_type": "execute_result"
    }
   ],
   "source": [
    "x_train.shape, x_test.shape, y_train.shape, y_test.shape"
   ]
  },
  {
   "cell_type": "code",
   "execution_count": 15,
   "metadata": {},
   "outputs": [],
   "source": [
    "# reshape data\n",
    "x_train = x_train.reshape(x_train.shape[0], x_train.shape[1], 1)\n",
    "x_test = x_test.reshape(x_test.shape[0], x_test.shape[1], 1)"
   ]
  },
  {
   "cell_type": "code",
   "execution_count": 16,
   "metadata": {},
   "outputs": [
    {
     "data": {
      "text/plain": [
       "((2300, 100, 1), (701, 100, 1))"
      ]
     },
     "execution_count": 16,
     "metadata": {},
     "output_type": "execute_result"
    }
   ],
   "source": [
    "x_train.shape, x_test.shape"
   ]
  },
  {
   "cell_type": "markdown",
   "metadata": {},
   "source": [
    "# Create model"
   ]
  },
  {
   "cell_type": "code",
   "execution_count": 23,
   "metadata": {},
   "outputs": [],
   "source": [
    "model = Sequential()\n",
    "\n",
    "model.add(CuDNNLSTM(80, return_sequences = True, input_shape = (100, 1)))\n",
    "model.add(Dropout(rate=0.2))\n",
    "model.add(CuDNNLSTM(50, return_sequences = True))\n",
    "model.add(Dropout(rate=0.2))\n",
    "model.add(CuDNNLSTM(32))\n",
    "model.add(Dense(1))"
   ]
  },
  {
   "cell_type": "code",
   "execution_count": 24,
   "metadata": {},
   "outputs": [
    {
     "name": "stdout",
     "output_type": "stream",
     "text": [
      "Model: \"sequential_1\"\n",
      "_________________________________________________________________\n",
      "Layer (type)                 Output Shape              Param #   \n",
      "=================================================================\n",
      "cu_dnnlstm_3 (CuDNNLSTM)     (None, 100, 80)           26560     \n",
      "_________________________________________________________________\n",
      "dropout_2 (Dropout)          (None, 100, 80)           0         \n",
      "_________________________________________________________________\n",
      "cu_dnnlstm_4 (CuDNNLSTM)     (None, 100, 50)           26400     \n",
      "_________________________________________________________________\n",
      "dropout_3 (Dropout)          (None, 100, 50)           0         \n",
      "_________________________________________________________________\n",
      "cu_dnnlstm_5 (CuDNNLSTM)     (None, 32)                10752     \n",
      "_________________________________________________________________\n",
      "dense_1 (Dense)              (None, 1)                 33        \n",
      "=================================================================\n",
      "Total params: 63,745\n",
      "Trainable params: 63,745\n",
      "Non-trainable params: 0\n",
      "_________________________________________________________________\n"
     ]
    }
   ],
   "source": [
    "model.summary()"
   ]
  },
  {
   "cell_type": "code",
   "execution_count": 25,
   "metadata": {},
   "outputs": [],
   "source": [
    "model.compile(loss = 'mean_squared_error', optimizer = 'adam')"
   ]
  },
  {
   "cell_type": "markdown",
   "metadata": {},
   "source": [
    "# train the model"
   ]
  },
  {
   "cell_type": "code",
   "execution_count": 26,
   "metadata": {
    "scrolled": true
   },
   "outputs": [
    {
     "name": "stdout",
     "output_type": "stream",
     "text": [
      "Epoch 1/100\n",
      "36/36 [==============================] - 26s 716ms/step - loss: 1.2690e-04 - val_loss: 0.0082\n",
      "Epoch 2/100\n",
      "36/36 [==============================] - 1s 29ms/step - loss: 1.6840e-05 - val_loss: 0.0039\n",
      "Epoch 3/100\n",
      "36/36 [==============================] - 1s 36ms/step - loss: 1.2362e-05 - val_loss: 0.0035\n",
      "Epoch 4/100\n",
      "36/36 [==============================] - 1s 36ms/step - loss: 1.1742e-05 - val_loss: 0.0032\n",
      "Epoch 5/100\n",
      "36/36 [==============================] - 1s 37ms/step - loss: 1.2323e-05 - val_loss: 0.0029\n",
      "Epoch 6/100\n",
      "36/36 [==============================] - 1s 35ms/step - loss: 1.4570e-05 - val_loss: 0.0036\n",
      "Epoch 7/100\n",
      "36/36 [==============================] - 1s 34ms/step - loss: 1.0236e-05 - val_loss: 0.0032\n",
      "Epoch 8/100\n",
      "36/36 [==============================] - 1s 37ms/step - loss: 1.0196e-05 - val_loss: 0.0042\n",
      "Epoch 9/100\n",
      "36/36 [==============================] - 1s 37ms/step - loss: 9.0814e-06 - val_loss: 0.0039\n",
      "Epoch 10/100\n",
      "36/36 [==============================] - 1s 38ms/step - loss: 9.0194e-06 - val_loss: 0.0025\n",
      "Epoch 11/100\n",
      "36/36 [==============================] - 1s 38ms/step - loss: 9.0451e-06 - val_loss: 0.0020\n",
      "Epoch 12/100\n",
      "36/36 [==============================] - 1s 38ms/step - loss: 8.1648e-06 - val_loss: 0.0026\n",
      "Epoch 13/100\n",
      "36/36 [==============================] - 1s 35ms/step - loss: 9.1743e-06 - val_loss: 0.0028\n",
      "Epoch 14/100\n",
      "36/36 [==============================] - 1s 34ms/step - loss: 7.3320e-06 - val_loss: 0.0029\n",
      "Epoch 15/100\n",
      "36/36 [==============================] - 1s 35ms/step - loss: 6.8389e-06 - val_loss: 0.0023\n",
      "Epoch 16/100\n",
      "36/36 [==============================] - 1s 38ms/step - loss: 5.8687e-06 - val_loss: 0.0033\n",
      "Epoch 17/100\n",
      "36/36 [==============================] - 1s 37ms/step - loss: 7.3872e-06 - val_loss: 0.0025\n",
      "Epoch 18/100\n",
      "36/36 [==============================] - 1s 37ms/step - loss: 6.2346e-06 - val_loss: 0.0024\n",
      "Epoch 19/100\n",
      "36/36 [==============================] - 1s 37ms/step - loss: 5.5929e-06 - val_loss: 0.0023\n",
      "Epoch 20/100\n",
      "36/36 [==============================] - 1s 33ms/step - loss: 6.0656e-06 - val_loss: 0.0026\n",
      "Epoch 21/100\n",
      "36/36 [==============================] - 1s 37ms/step - loss: 5.8144e-06 - val_loss: 0.0024\n",
      "Epoch 22/100\n",
      "36/36 [==============================] - 1s 34ms/step - loss: 7.5796e-06 - val_loss: 0.0029\n",
      "Epoch 23/100\n",
      "36/36 [==============================] - 1s 41ms/step - loss: 5.6509e-06 - val_loss: 0.0032\n",
      "Epoch 24/100\n",
      "36/36 [==============================] - 1s 38ms/step - loss: 5.9144e-06 - val_loss: 0.0018\n",
      "Epoch 25/100\n",
      "36/36 [==============================] - 1s 38ms/step - loss: 5.3993e-06 - val_loss: 0.0031\n",
      "Epoch 26/100\n",
      "36/36 [==============================] - 1s 37ms/step - loss: 5.7415e-06 - val_loss: 0.0031\n",
      "Epoch 27/100\n",
      "36/36 [==============================] - 1s 38ms/step - loss: 5.3073e-06 - val_loss: 0.0025\n",
      "Epoch 28/100\n",
      "36/36 [==============================] - 1s 38ms/step - loss: 5.6594e-06 - val_loss: 0.0024\n",
      "Epoch 29/100\n",
      "36/36 [==============================] - 1s 37ms/step - loss: 4.8828e-06 - val_loss: 0.0031\n",
      "Epoch 30/100\n",
      "36/36 [==============================] - 1s 34ms/step - loss: 4.7153e-06 - val_loss: 0.0026\n",
      "Epoch 31/100\n",
      "36/36 [==============================] - 1s 37ms/step - loss: 4.7663e-06 - val_loss: 0.0026\n",
      "Epoch 32/100\n",
      "36/36 [==============================] - 1s 38ms/step - loss: 6.4860e-06 - val_loss: 0.0024\n",
      "Epoch 33/100\n",
      "36/36 [==============================] - 1s 37ms/step - loss: 6.1664e-06 - val_loss: 0.0018\n",
      "Epoch 34/100\n",
      "36/36 [==============================] - 1s 36ms/step - loss: 6.1671e-06 - val_loss: 0.0029\n",
      "Epoch 35/100\n",
      "36/36 [==============================] - 1s 33ms/step - loss: 5.9170e-06 - val_loss: 0.0018\n",
      "Epoch 36/100\n",
      "36/36 [==============================] - 1s 40ms/step - loss: 4.4910e-06 - val_loss: 0.0017\n",
      "Epoch 37/100\n",
      "36/36 [==============================] - 1s 38ms/step - loss: 4.3835e-06 - val_loss: 0.0025\n",
      "Epoch 38/100\n",
      "36/36 [==============================] - 1s 38ms/step - loss: 5.1199e-06 - val_loss: 0.0033\n",
      "Epoch 39/100\n",
      "36/36 [==============================] - 1s 39ms/step - loss: 5.4061e-06 - val_loss: 0.0020\n",
      "Epoch 40/100\n",
      "36/36 [==============================] - 1s 36ms/step - loss: 5.3283e-06 - val_loss: 0.0024\n",
      "Epoch 41/100\n",
      "36/36 [==============================] - 1s 38ms/step - loss: 4.5526e-06 - val_loss: 0.0042\n",
      "Epoch 42/100\n",
      "36/36 [==============================] - 1s 37ms/step - loss: 4.9037e-06 - val_loss: 0.0029\n",
      "Epoch 43/100\n",
      "36/36 [==============================] - 1s 37ms/step - loss: 4.2223e-06 - val_loss: 0.0021\n",
      "Epoch 44/100\n",
      "36/36 [==============================] - 1s 37ms/step - loss: 5.8822e-06 - val_loss: 0.0022\n",
      "Epoch 45/100\n",
      "36/36 [==============================] - 1s 38ms/step - loss: 4.8025e-06 - val_loss: 0.0015\n",
      "Epoch 46/100\n",
      "36/36 [==============================] - 1s 41ms/step - loss: 4.1710e-06 - val_loss: 0.0018\n",
      "Epoch 47/100\n",
      "36/36 [==============================] - 1s 38ms/step - loss: 4.4825e-06 - val_loss: 0.0025\n",
      "Epoch 48/100\n",
      "36/36 [==============================] - 1s 38ms/step - loss: 4.1284e-06 - val_loss: 0.0025\n",
      "Epoch 49/100\n",
      "36/36 [==============================] - 1s 38ms/step - loss: 4.1772e-06 - val_loss: 0.0018\n",
      "Epoch 50/100\n",
      "36/36 [==============================] - 1s 37ms/step - loss: 4.7253e-06 - val_loss: 0.0030\n",
      "Epoch 51/100\n",
      "36/36 [==============================] - 1s 36ms/step - loss: 4.2792e-06 - val_loss: 0.0027\n",
      "Epoch 52/100\n",
      "36/36 [==============================] - 1s 38ms/step - loss: 4.2632e-06 - val_loss: 0.0037\n",
      "Epoch 53/100\n",
      "36/36 [==============================] - 1s 38ms/step - loss: 4.3190e-06 - val_loss: 0.0037\n",
      "Epoch 54/100\n",
      "36/36 [==============================] - 1s 34ms/step - loss: 3.8928e-06 - val_loss: 0.0029\n",
      "Epoch 55/100\n",
      "36/36 [==============================] - 1s 36ms/step - loss: 4.5036e-06 - val_loss: 0.0015\n",
      "Epoch 56/100\n",
      "36/36 [==============================] - 1s 34ms/step - loss: 4.4686e-06 - val_loss: 0.0023\n",
      "Epoch 57/100\n",
      "36/36 [==============================] - 1s 39ms/step - loss: 4.1213e-06 - val_loss: 0.0024\n",
      "Epoch 58/100\n",
      "36/36 [==============================] - 1s 37ms/step - loss: 4.7665e-06 - val_loss: 0.0046\n",
      "Epoch 59/100\n",
      "36/36 [==============================] - 1s 38ms/step - loss: 4.2937e-06 - val_loss: 0.0034\n",
      "Epoch 60/100\n",
      "36/36 [==============================] - 1s 35ms/step - loss: 4.7892e-06 - val_loss: 0.0020\n",
      "Epoch 61/100\n",
      "36/36 [==============================] - 1s 38ms/step - loss: 4.5752e-06 - val_loss: 0.0014\n",
      "Epoch 62/100\n",
      "36/36 [==============================] - 1s 40ms/step - loss: 4.2231e-06 - val_loss: 0.0026\n",
      "Epoch 63/100\n",
      "36/36 [==============================] - 2s 45ms/step - loss: 3.8605e-06 - val_loss: 0.0014\n",
      "Epoch 64/100\n",
      "36/36 [==============================] - 1s 40ms/step - loss: 3.8300e-06 - val_loss: 0.0016\n",
      "Epoch 65/100\n",
      "36/36 [==============================] - 2s 44ms/step - loss: 4.5347e-06 - val_loss: 0.0013\n",
      "Epoch 66/100\n",
      "36/36 [==============================] - 1s 38ms/step - loss: 5.0275e-06 - val_loss: 0.0016\n",
      "Epoch 67/100\n",
      "36/36 [==============================] - 1s 38ms/step - loss: 3.7397e-06 - val_loss: 0.0014\n",
      "Epoch 68/100\n",
      "36/36 [==============================] - 1s 33ms/step - loss: 4.2078e-06 - val_loss: 0.0021\n",
      "Epoch 69/100\n",
      "36/36 [==============================] - 1s 31ms/step - loss: 3.6527e-06 - val_loss: 0.0018\n",
      "Epoch 70/100\n",
      "36/36 [==============================] - 1s 37ms/step - loss: 3.4076e-06 - val_loss: 0.0032\n",
      "Epoch 71/100\n",
      "36/36 [==============================] - 1s 36ms/step - loss: 4.9452e-06 - val_loss: 0.0028\n",
      "Epoch 72/100\n",
      "36/36 [==============================] - 1s 38ms/step - loss: 4.3471e-06 - val_loss: 0.0020\n",
      "Epoch 73/100\n",
      "36/36 [==============================] - 1s 37ms/step - loss: 4.3783e-06 - val_loss: 0.0012\n",
      "Epoch 74/100\n",
      "36/36 [==============================] - 1s 37ms/step - loss: 4.1791e-06 - val_loss: 0.0023\n",
      "Epoch 75/100\n",
      "36/36 [==============================] - 1s 37ms/step - loss: 3.7820e-06 - val_loss: 0.0020\n",
      "Epoch 76/100\n",
      "36/36 [==============================] - 1s 37ms/step - loss: 3.7135e-06 - val_loss: 0.0028\n",
      "Epoch 77/100\n",
      "36/36 [==============================] - 1s 36ms/step - loss: 3.5335e-06 - val_loss: 0.0021\n",
      "Epoch 78/100\n",
      "36/36 [==============================] - 1s 37ms/step - loss: 3.2089e-06 - val_loss: 0.0035\n",
      "Epoch 79/100\n"
     ]
    },
    {
     "name": "stdout",
     "output_type": "stream",
     "text": [
      "36/36 [==============================] - 1s 38ms/step - loss: 3.5946e-06 - val_loss: 0.0023\n",
      "Epoch 80/100\n",
      "36/36 [==============================] - 1s 38ms/step - loss: 3.8945e-06 - val_loss: 0.0016\n",
      "Epoch 81/100\n",
      "36/36 [==============================] - 1s 34ms/step - loss: 5.1591e-06 - val_loss: 0.0019\n",
      "Epoch 82/100\n",
      "36/36 [==============================] - 1s 36ms/step - loss: 3.5954e-06 - val_loss: 0.0026\n",
      "Epoch 83/100\n",
      "36/36 [==============================] - 1s 33ms/step - loss: 4.1247e-06 - val_loss: 0.0039\n",
      "Epoch 84/100\n",
      "36/36 [==============================] - 1s 37ms/step - loss: 3.6967e-06 - val_loss: 0.0022\n",
      "Epoch 85/100\n",
      "36/36 [==============================] - 1s 36ms/step - loss: 3.9721e-06 - val_loss: 0.0022\n",
      "Epoch 86/100\n",
      "36/36 [==============================] - 1s 37ms/step - loss: 3.8912e-06 - val_loss: 0.0016\n",
      "Epoch 87/100\n",
      "36/36 [==============================] - 1s 37ms/step - loss: 3.4667e-06 - val_loss: 0.0023\n",
      "Epoch 88/100\n",
      "36/36 [==============================] - 1s 34ms/step - loss: 3.5670e-06 - val_loss: 0.0031\n",
      "Epoch 89/100\n",
      "36/36 [==============================] - 1s 38ms/step - loss: 5.2186e-06 - val_loss: 0.0023\n",
      "Epoch 90/100\n",
      "36/36 [==============================] - 1s 37ms/step - loss: 3.3565e-06 - val_loss: 0.0023\n",
      "Epoch 91/100\n",
      "36/36 [==============================] - 1s 35ms/step - loss: 3.6233e-06 - val_loss: 0.0018\n",
      "Epoch 92/100\n",
      "36/36 [==============================] - 1s 37ms/step - loss: 3.6957e-06 - val_loss: 0.0019\n",
      "Epoch 93/100\n",
      "36/36 [==============================] - 1s 36ms/step - loss: 4.1002e-06 - val_loss: 0.0033\n",
      "Epoch 94/100\n",
      "36/36 [==============================] - 1s 33ms/step - loss: 4.3602e-06 - val_loss: 0.0030\n",
      "Epoch 95/100\n",
      "36/36 [==============================] - 1s 32ms/step - loss: 3.6605e-06 - val_loss: 0.0031\n",
      "Epoch 96/100\n",
      "36/36 [==============================] - 1s 34ms/step - loss: 4.1766e-06 - val_loss: 0.0029\n",
      "Epoch 97/100\n",
      "36/36 [==============================] - 1s 34ms/step - loss: 3.6408e-06 - val_loss: 0.0023\n",
      "Epoch 98/100\n",
      "36/36 [==============================] - 1s 36ms/step - loss: 3.4715e-06 - val_loss: 0.0020\n",
      "Epoch 99/100\n",
      "36/36 [==============================] - 1s 35ms/step - loss: 3.2272e-06 - val_loss: 0.0025\n",
      "Epoch 100/100\n",
      "36/36 [==============================] - 1s 38ms/step - loss: 3.4146e-06 - val_loss: 0.0027\n"
     ]
    },
    {
     "data": {
      "text/plain": [
       "<tensorflow.python.keras.callbacks.History at 0x1cf2d795f88>"
      ]
     },
     "execution_count": 26,
     "metadata": {},
     "output_type": "execute_result"
    }
   ],
   "source": [
    "model.fit(x_train, y_train,\n",
    "          validation_data = (x_test, y_test),\n",
    "          epochs = 100,\n",
    "          batch_size = 64,\n",
    "          verbose = 1\n",
    "         )"
   ]
  },
  {
   "cell_type": "markdown",
   "metadata": {},
   "source": [
    "# Plot the loss "
   ]
  },
  {
   "cell_type": "code",
   "execution_count": 27,
   "metadata": {},
   "outputs": [
    {
     "data": {
      "image/png": "[encoded data removed]",
      "text/plain": [
       "<Figure size 432x288 with 1 Axes>"
      ]
     },
     "metadata": {
      "needs_background": "light"
     },
     "output_type": "display_data"
    }
   ],
   "source": [
    "plt.plot(model.history.history['loss'])\n",
    "plt.plot(model.history.history['val_loss'])\n",
    "plt.xlabel('Epochs')\n",
    "plt.ylabel('Loss')\n",
    "plt.title('Model Loss')\n",
    "plt.legend(['train', 'test'], loc = 'upper right')\n",
    "plt.show()"
   ]
  },
  {
   "cell_type": "markdown",
   "metadata": {},
   "source": [
    "# Compare the actual value and predected value"
   ]
  },
  {
   "cell_type": "code",
   "execution_count": 28,
   "metadata": {},
   "outputs": [
    {
     "data": {
      "image/png": "[encoded data removed]",
      "text/plain": [
       "<Figure size 432x288 with 1 Axes>"
      ]
     },
     "metadata": {
      "needs_background": "light"
     },
     "output_type": "display_data"
    }
   ],
   "source": [
    "y_pred = model.predict(x_test)\n",
    "\n",
    "y_test_inverse = scaler.inverse_transform(data)\n",
    "y_pred_inverse = scaler.inverse_transform(y_pred)\n",
    "\n",
    "plt.plot(y_test_inverse, label = 'Actual Price', color = 'red')\n",
    "plt.plot(y_pred_inverse, label = 'Predicted Price', color = 'green')\n",
    "\n",
    "plt.title('Price Prediction')\n",
    "plt.xlabel('Time(Days)')\n",
    "plt.ylabel('Price')\n",
    "plt.legend(loc = 'best')\n",
    "plt.show()"
   ]
  },
  {
   "cell_type": "code",
   "execution_count": null,
   "metadata": {},
   "outputs": [],
   "source": []
  },
  {
   "cell_type": "code",
   "execution_count": 29,
   "metadata": {},
   "outputs": [
    {
     "data": {
      "image/png": "[encoded data removed]",
      "text/plain": [
       "<Figure size 432x288 with 1 Axes>"
      ]
     },
     "metadata": {
      "needs_background": "light"
     },
     "output_type": "display_data"
    }
   ],
   "source": [
    "train_predict = model.predict(x_train)\n",
    "test_predict = model.predict(x_test)\n",
    "\n",
    "\n",
    "look_back = 100 # shift train prediction for plotting\n",
    "trainPredictPlot = np.empty_like(data)\n",
    "trainPredictPlot[:, :] = np.nan\n",
    "trainPredictPlot[look_back:len(train_predict)+look_back, :] = train_predict\n",
    "\n",
    "# shift test pridiction for plotting\n",
    "testPredictPlot = np.empty_like(data)\n",
    "testPredictPlot[:, :] = np.nan\n",
    "testPredictPlot[len(train_predict)+look_back*2:len(data), :] = test_predict\n",
    "\n",
    "# plot baseline and prediction\n",
    "plt.plot(scaler.inverse_transform(data))\n",
    "plt.plot(trainPredictPlot)\n",
    "plt.plot(testPredictPlot)\n",
    "plt.show()"
   ]
  },
  {
   "cell_type": "code",
   "execution_count": null,
   "metadata": {},
   "outputs": [],
   "source": []
  },
  {
   "cell_type": "code",
   "execution_count": null,
   "metadata": {},
   "outputs": [],
   "source": []
  },
  {
   "cell_type": "code",
   "execution_count": null,
   "metadata": {},
   "outputs": [],
   "source": []
  }
 ],
 "metadata": {
  "kernelspec": {
   "display_name": "Python 3",
   "language": "python",
   "name": "python3"
  },
  "language_info": {
   "codemirror_mode": {
    "name": "ipython",
    "version": 3
   },
   "file_extension": ".py",
   "mimetype": "text/x-python",
   "name": "python",
   "nbconvert_exporter": "python",
   "pygments_lexer": "ipython3",
   "version": "3.7.4"
  }
 },
 "nbformat": 4,
 "nbformat_minor": 2
}
